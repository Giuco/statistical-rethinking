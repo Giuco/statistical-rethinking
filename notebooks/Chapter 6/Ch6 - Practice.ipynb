{
 "cells": [
  {
   "cell_type": "code",
   "execution_count": 1,
   "id": "459b3303-cfbd-4d87-a709-84712d0ec533",
   "metadata": {},
   "outputs": [],
   "source": [
    "import sys"
   ]
  },
  {
   "cell_type": "code",
   "execution_count": 2,
   "id": "a86039bb-1762-4e0f-819b-0c0e148d7566",
   "metadata": {},
   "outputs": [],
   "source": [
    "sys.path.append('..')"
   ]
  },
  {
   "cell_type": "code",
   "execution_count": 3,
   "id": "45e4f730-1bbb-4547-a064-6f1ed1f9581d",
   "metadata": {},
   "outputs": [],
   "source": [
    "import pandas as pd\n",
    "import numpy as np\n",
    "from scipy import stats\n",
    "from scipy.optimize import curve_fit\n",
    "from matplotlib import pyplot as plt\n",
    "import arviz as az\n",
    "import pymc3 as pm\n",
    "from helpers import CausalModel, lfilter, create_standardizer_destandardizer\n",
    "from copy import deepcopy\n",
    "import seaborn as sns"
   ]
  },
  {
   "cell_type": "code",
   "execution_count": 4,
   "id": "e0c066a9-ada3-47d6-8d36-7f72d629f46f",
   "metadata": {},
   "outputs": [],
   "source": [
    "%matplotlib Inline"
   ]
  },
  {
   "cell_type": "code",
   "execution_count": 5,
   "id": "02d1c686-6ad0-4264-ba45-ba19e9a2b1b4",
   "metadata": {},
   "outputs": [],
   "source": [
    "%config InlineBackend.figure_format = 'svg'"
   ]
  },
  {
   "cell_type": "code",
   "execution_count": 6,
   "id": "6afb9065-5aa0-4e84-88a7-4b9ba1140639",
   "metadata": {},
   "outputs": [],
   "source": [
    "np.set_printoptions(formatter={float: lambda x: '{:,.3f}'.format(x)})\n",
    "pd.set_option('display.float_format', lambda x: '{:,.3f}'.format(x))"
   ]
  }
 ],
 "metadata": {
  "kernelspec": {
   "display_name": "Python 3 (ipykernel)",
   "language": "python",
   "name": "python3"
  },
  "language_info": {
   "codemirror_mode": {
    "name": "ipython",
    "version": 3
   },
   "file_extension": ".py",
   "mimetype": "text/x-python",
   "name": "python",
   "nbconvert_exporter": "python",
   "pygments_lexer": "ipython3",
   "version": "3.9.6"
  }
 },
 "nbformat": 4,
 "nbformat_minor": 5
}
