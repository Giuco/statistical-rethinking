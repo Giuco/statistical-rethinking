{
 "cells": [
  {
   "cell_type": "code",
   "execution_count": 1,
   "id": "minimal-pregnancy",
   "metadata": {},
   "outputs": [],
   "source": [
    "import sys"
   ]
  },
  {
   "cell_type": "code",
   "execution_count": 2,
   "id": "laughing-carolina",
   "metadata": {},
   "outputs": [],
   "source": [
    "sys.path.append('..')"
   ]
  },
  {
   "cell_type": "code",
   "execution_count": 3,
   "id": "blind-figure",
   "metadata": {},
   "outputs": [],
   "source": [
    "import pandas as pd\n",
    "import numpy as np\n",
    "from scipy import stats\n",
    "from scipy.optimize import curve_fit\n",
    "from matplotlib import pyplot as plt\n",
    "import arviz as az\n",
    "import pymc3 as pm\n",
    "from helpers import CausalModel, lfilter, create_standardizer_destandardizer\n",
    "from copy import deepcopy\n",
    "import seaborn as sns"
   ]
  },
  {
   "cell_type": "code",
   "execution_count": 4,
   "id": "headed-tomato",
   "metadata": {},
   "outputs": [],
   "source": [
    "%matplotlib Inline"
   ]
  },
  {
   "cell_type": "code",
   "execution_count": 5,
   "id": "cardiac-offset",
   "metadata": {},
   "outputs": [],
   "source": [
    "%config InlineBackend.figure_format = 'svg'"
   ]
  },
  {
   "cell_type": "code",
   "execution_count": 6,
   "id": "mighty-canberra",
   "metadata": {},
   "outputs": [],
   "source": [
    "np.set_printoptions(formatter={float: lambda x: '{:,.3f}'.format(x)})\n",
    "pd.set_option('display.float_format', lambda x: '{:,.3f}'.format(x))"
   ]
  },
  {
   "cell_type": "markdown",
   "id": "laden-syndication",
   "metadata": {},
   "source": [
    "# The Haunted DAG & The Causal Terror"
   ]
  },
  {
   "cell_type": "markdown",
   "id": "promotional-mixer",
   "metadata": {},
   "source": [
    "## Practice"
   ]
  },
  {
   "cell_type": "markdown",
   "id": "successful-oxford",
   "metadata": {},
   "source": [
    "### 6E1. \n",
    "List three mechanisms by which multiple regression can produce false inferences about causal effects."
   ]
  },
  {
   "cell_type": "markdown",
   "id": "continuing-invitation",
   "metadata": {},
   "source": [
    "1. Multicollinearity\n",
    "2. Post-treatment Bias\n",
    "3. Collider Bias"
   ]
  },
  {
   "cell_type": "markdown",
   "id": "assisted-ghana",
   "metadata": {},
   "source": [
    "### 6E2. \n",
    "For one of the mechanisms in the previous problem, provide an example of your choice, perhaps from your own research."
   ]
  },
  {
   "cell_type": "markdown",
   "id": "falling-macintosh",
   "metadata": {},
   "source": [
    "Covid studies using only hospitalized patients data to causal inference"
   ]
  },
  {
   "cell_type": "markdown",
   "id": "passive-inquiry",
   "metadata": {},
   "source": [
    "### 6E3.\n",
    "List the four elemental confounds. Can you explain the conditional dependencies of each?"
   ]
  },
  {
   "cell_type": "markdown",
   "id": "front-basketball",
   "metadata": {},
   "source": [
    "The fork, the collider, the pipe, and the descendant.\n",
    "\n",
    "1. **The Fork** |  X <- Z -> Y\n",
    "\n",
    "In a fork, Z is the common cause of X and Y. This common cause creates a correlation between X and Y. \n",
    "If we condition on Z (or in another words, put Z onto the regression), then learning X tell us nothing about Y. X and Y are independent, conditional on Z.\n",
    "\n",
    "---\n",
    "\n",
    "2. **The Pipe** | X -> Z -> Y\n",
    "\n",
    "Conditional on Z, X and Y are independent. So to break the flow of information between X and Y you must add Z to your regression\n",
    "\n",
    "---\n",
    "\n",
    "3. **The Collider** | X -> Z <- Y\n",
    "\n",
    "Unlike the previous ones, there is no association between X and Y unless you condition on Z. So to break the flow of information between X and Y you must remove Z from your regression.\n",
    "\n",
    "---\n",
    "\n",
    "4. **The Descendent** | \n",
    "\n",
    "Conditioning on D will also (partly) condition on Z, because D (as a child of Z) contains information about Z. Conditioning on D will also open the flow of information between X and Y because they are a collider on Z"
   ]
  },
  {
   "cell_type": "markdown",
   "id": "fifth-seminar",
   "metadata": {},
   "source": [
    "### 6E4.\n",
    "How is a biased sample like conditioning on a collider? Think of the example at the open of the chapter."
   ]
  },
  {
   "cell_type": "markdown",
   "id": "brown-evolution",
   "metadata": {},
   "source": [
    "The DAG:\n",
    "\n",
    "- T: Trustworthiness\n",
    "- S: Selected\n",
    "- N: Newsworthiness\n",
    "\n",
    "T -> S <- N\n",
    "\n",
    "Trustworthiness influences selection and Newsworthiness also influences selection. So when you condition on selection, it will appear as T influences N or N influences T. To break the flow of information between then you must remove S from your model. Or in the case of sampling, you should not only use the selected as a sample"
   ]
  },
  {
   "cell_type": "markdown",
   "id": "certain-tracker",
   "metadata": {},
   "source": [
    "### 6M1. \n",
    "\n",
    "Modify the DAG on page 186 to include the variable V, an unobserved cause of C and Y: C ← V → Y. Reanalyze the DAG. How many paths connect X to Y? Which must be closed? Which variables should you condition on now?"
   ]
  },
  {
   "cell_type": "code",
   "execution_count": null,
   "id": "exterior-patient",
   "metadata": {},
   "outputs": [],
   "source": []
  }
 ],
 "metadata": {
  "kernelspec": {
   "display_name": "Python 3",
   "language": "python",
   "name": "python3"
  },
  "language_info": {
   "codemirror_mode": {
    "name": "ipython",
    "version": 3
   },
   "file_extension": ".py",
   "mimetype": "text/x-python",
   "name": "python",
   "nbconvert_exporter": "python",
   "pygments_lexer": "ipython3",
   "version": "3.9.6"
  }
 },
 "nbformat": 4,
 "nbformat_minor": 5
}
