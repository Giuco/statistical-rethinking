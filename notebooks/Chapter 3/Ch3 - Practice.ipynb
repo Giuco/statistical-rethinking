{
 "cells": [
  {
   "cell_type": "code",
   "execution_count": 1,
   "id": "charming-hamilton",
   "metadata": {},
   "outputs": [],
   "source": [
    "import sys\n",
    "sys.path.append('..')"
   ]
  },
  {
   "cell_type": "code",
   "execution_count": 2,
   "id": "acoustic-preference",
   "metadata": {},
   "outputs": [],
   "source": [
    "import numpy as np\n",
    "from scipy import stats\n",
    "from matplotlib import pyplot as plt\n",
    "import seaborn as sns\n",
    "import arviz as az\n",
    "import pandas as pd\n",
    "from helpers import simplehist, posterior_grid_approx"
   ]
  },
  {
   "cell_type": "markdown",
   "id": "bottom-helena",
   "metadata": {},
   "source": [
    "# Sampling the Imaginary "
   ]
  },
  {
   "cell_type": "markdown",
   "id": "adopted-tunisia",
   "metadata": {},
   "source": [
    "## Practice"
   ]
  },
  {
   "cell_type": "markdown",
   "id": "roman-syndication",
   "metadata": {},
   "source": [
    "**Easy.**\n",
    "\n",
    "The Easy problems use the samples from the posterior distribution for the globe tossing example. This code will give you a specific set of samples, so that you can check your answers exactly."
   ]
  },
  {
   "cell_type": "code",
   "execution_count": 3,
   "id": "original-stranger",
   "metadata": {},
   "outputs": [],
   "source": [
    "p_grid, posterior = posterior_grid_approx(success=6, tosses=9)\n",
    "samples = np.random.choice(p_grid, p=posterior, size=int(1e4), replace=True)"
   ]
  },
  {
   "cell_type": "markdown",
   "id": "featured-virtue",
   "metadata": {},
   "source": [
    "Use the values in `samples` to answer the questions that follow."
   ]
  },
  {
   "cell_type": "markdown",
   "id": "wireless-gates",
   "metadata": {},
   "source": [
    "### 3E1. \n",
    "How much posterior probability lies below p=0.2?"
   ]
  },
  {
   "cell_type": "code",
   "execution_count": 4,
   "id": "wound-potential",
   "metadata": {},
   "outputs": [
    {
     "data": {
      "text/plain": [
       "0.0006"
      ]
     },
     "execution_count": 4,
     "metadata": {},
     "output_type": "execute_result"
    }
   ],
   "source": [
    "(samples <= .2).mean()"
   ]
  },
  {
   "cell_type": "markdown",
   "id": "accessible-seventh",
   "metadata": {},
   "source": [
    "### 3E2. \n",
    "How much posterior probability lies above p=0.8?"
   ]
  },
  {
   "cell_type": "code",
   "execution_count": 5,
   "id": "embedded-refrigerator",
   "metadata": {},
   "outputs": [
    {
     "data": {
      "text/plain": [
       "0.1188"
      ]
     },
     "execution_count": 5,
     "metadata": {},
     "output_type": "execute_result"
    }
   ],
   "source": [
    "(samples >= .8).mean()"
   ]
  },
  {
   "cell_type": "markdown",
   "id": "grave-diamond",
   "metadata": {},
   "source": [
    "### 3E3.\n",
    "\n",
    "How much posterior probability lies between p=0.2 and p=0.8?"
   ]
  },
  {
   "cell_type": "code",
   "execution_count": 6,
   "id": "another-death",
   "metadata": {},
   "outputs": [
    {
     "data": {
      "text/plain": [
       "0.8806"
      ]
     },
     "execution_count": 6,
     "metadata": {},
     "output_type": "execute_result"
    }
   ],
   "source": [
    "((samples > .2) & (samples < .8)).mean()"
   ]
  },
  {
   "cell_type": "markdown",
   "id": "sharp-petersburg",
   "metadata": {},
   "source": [
    "### 3E4.\n",
    "\n",
    "20% of the posterior probability lies below which value of p?"
   ]
  },
  {
   "cell_type": "code",
   "execution_count": 7,
   "id": "according-magnet",
   "metadata": {},
   "outputs": [
    {
     "data": {
      "text/plain": [
       "0.5151515151515152"
      ]
     },
     "execution_count": 7,
     "metadata": {},
     "output_type": "execute_result"
    }
   ],
   "source": [
    "np.percentile(samples, q=20)"
   ]
  },
  {
   "cell_type": "markdown",
   "id": "substantial-zimbabwe",
   "metadata": {},
   "source": [
    "### 3E5. \n",
    "\n",
    "20% of the posterior probability lies above which value of p?"
   ]
  },
  {
   "cell_type": "code",
   "execution_count": 8,
   "id": "spanish-service",
   "metadata": {},
   "outputs": [
    {
     "data": {
      "text/plain": [
       "0.7575757575757577"
      ]
     },
     "execution_count": 8,
     "metadata": {},
     "output_type": "execute_result"
    }
   ],
   "source": [
    "np.percentile(samples, q=80)"
   ]
  },
  {
   "cell_type": "markdown",
   "id": "hybrid-smart",
   "metadata": {},
   "source": [
    "### 3E6.\n",
    "\n",
    "Which values of p contain the narrowest interval equal to 66% of the posterior probability?"
   ]
  },
  {
   "cell_type": "code",
   "execution_count": 9,
   "id": "declared-praise",
   "metadata": {},
   "outputs": [
    {
     "name": "stdout",
     "output_type": "stream",
     "text": [
      "[0.50505051 0.77777778]\n"
     ]
    }
   ],
   "source": [
    "hpd_interval = az.hdi(samples, hdi_prob=.66)\n",
    "print(hpd_interval)"
   ]
  },
  {
   "cell_type": "code",
   "execution_count": 10,
   "id": "mexican-capacity",
   "metadata": {},
   "outputs": [
    {
     "data": {
      "text/plain": [
       "0.6369"
      ]
     },
     "execution_count": 10,
     "metadata": {},
     "output_type": "execute_result"
    }
   ],
   "source": [
    "((samples > hpd_interval[0]) & (samples < hpd_interval[1])).mean()"
   ]
  },
  {
   "cell_type": "markdown",
   "id": "direct-silence",
   "metadata": {},
   "source": [
    "### 3E7.\n",
    "\n",
    "Which values of p contain 66% of the posterior probability, assuming equal posterior probability both below and above the interval?"
   ]
  },
  {
   "cell_type": "code",
   "execution_count": 11,
   "id": "desperate-relative",
   "metadata": {},
   "outputs": [
    {
     "name": "stdout",
     "output_type": "stream",
     "text": [
      "[0.49494949 0.77777778]\n"
     ]
    }
   ],
   "source": [
    "qi_interval = np.quantile(samples, [1/6, 5/6])\n",
    "print(qi_interval)"
   ]
  },
  {
   "cell_type": "code",
   "execution_count": 12,
   "id": "empty-couple",
   "metadata": {},
   "outputs": [
    {
     "data": {
      "text/plain": [
       "0.6542"
      ]
     },
     "execution_count": 12,
     "metadata": {},
     "output_type": "execute_result"
    }
   ],
   "source": [
    "((samples > qi_interval[0]) & (samples < qi_interval[1])).mean()"
   ]
  },
  {
   "cell_type": "markdown",
   "id": "southeast-holiday",
   "metadata": {},
   "source": [
    "### 3M1.\n",
    "\n",
    "Suppose the globe tossing data had turned out to be 8 water in 15 tosses. Construct the posterior distribution, using grid approximation. Use the same flat prior as before."
   ]
  },
  {
   "cell_type": "code",
   "execution_count": 13,
   "id": "dried-receipt",
   "metadata": {},
   "outputs": [],
   "source": [
    "p_grid, posterior = posterior_grid_approx(success=8, tosses=15)"
   ]
  },
  {
   "cell_type": "markdown",
   "id": "contemporary-pricing",
   "metadata": {},
   "source": [
    "### 3M2.\n",
    "\n",
    "Draw 10,000 samples from the grid approximation from above. Then use the samples to calculate the 90% HPDI for p."
   ]
  },
  {
   "cell_type": "code",
   "execution_count": 14,
   "id": "heavy-oasis",
   "metadata": {},
   "outputs": [
    {
     "data": {
      "text/plain": [
       "array([0.34343434, 0.72727273])"
      ]
     },
     "execution_count": 14,
     "metadata": {},
     "output_type": "execute_result"
    }
   ],
   "source": [
    "samples = np.random.choice(p_grid, p=posterior, size=int(1e4), replace=True)\n",
    "az.hdi(samples, hdi_prob=.9)"
   ]
  },
  {
   "cell_type": "markdown",
   "id": "educated-huntington",
   "metadata": {},
   "source": [
    "### 3M3.\n",
    "\n",
    "Construct a posterior predictive check for this model and data. This means simulate the distribution of samples, averaging over the posterior uncertainty in p. What is the probability of observing 8 water in 15 tosses?"
   ]
  },
  {
   "cell_type": "code",
   "execution_count": 15,
   "id": "orange-update",
   "metadata": {},
   "outputs": [
    {
     "data": {
      "text/plain": [
       "0.1493"
      ]
     },
     "execution_count": 15,
     "metadata": {},
     "output_type": "execute_result"
    }
   ],
   "source": [
    "w = stats.binom.rvs(n=15, size=len(samples), p=samples)\n",
    "wperc = pd.Series(w).value_counts(normalize=True).sort_index()\n",
    "wperc[8]"
   ]
  },
  {
   "cell_type": "code",
   "execution_count": 16,
   "id": "accessory-baseline",
   "metadata": {},
   "outputs": [
    {
     "data": {
      "text/plain": [
       "<AxesSubplot:>"
      ]
     },
     "execution_count": 16,
     "metadata": {},
     "output_type": "execute_result"
    },
    {
     "data": {
      "image/png": "[encoded data removed]",
      "text/plain": [
       "<Figure size 432x288 with 1 Axes>"
      ]
     },
     "metadata": {
      "needs_background": "light"
     },
     "output_type": "display_data"
    }
   ],
   "source": [
    "wperc.plot.bar()"
   ]
  },
  {
   "cell_type": "markdown",
   "id": "inside-queens",
   "metadata": {},
   "source": [
    "### 3M4. \n",
    "\n",
    "Using the posterior distribution constructed from the new (8/15) data, now calculate the probability of observing 6 water in 9 tosses."
   ]
  },
  {
   "cell_type": "code",
   "execution_count": 17,
   "id": "strategic-access",
   "metadata": {},
   "outputs": [
    {
     "data": {
      "text/plain": [
       "0.1836"
      ]
     },
     "execution_count": 17,
     "metadata": {},
     "output_type": "execute_result"
    }
   ],
   "source": [
    "w = stats.binom.rvs(n=9, size=len(samples), p=samples)\n",
    "wperc = pd.Series(w).value_counts(normalize=True).sort_index()\n",
    "wperc[6]"
   ]
  },
  {
   "cell_type": "code",
   "execution_count": 18,
   "id": "patent-poland",
   "metadata": {},
   "outputs": [
    {
     "data": {
      "text/plain": [
       "<AxesSubplot:>"
      ]
     },
     "execution_count": 18,
     "metadata": {},
     "output_type": "execute_result"
    },
    {
     "data": {
      "image/png": "[encoded data removed]",
      "text/plain": [
       "<Figure size 432x288 with 1 Axes>"
      ]
     },
     "metadata": {
      "needs_background": "light"
     },
     "output_type": "display_data"
    }
   ],
   "source": [
    "wperc.plot.bar()"
   ]
  },
  {
   "cell_type": "markdown",
   "id": "postal-bernard",
   "metadata": {},
   "source": [
    "### 3M5. \n",
    "\n",
    "Start over at **3M1**, but now use a prior that is zero below p=0.5 and a constant above p=0.5.This corresponds to prior information that a majority of the Earth’s surface is water. Repeat each problem above and compare the inferences. What difference does the better prior make? If it helps, compare inferences (using both priors) to the true value p=0.7."
   ]
  },
  {
   "cell_type": "code",
   "execution_count": 19,
   "id": "great-bidding",
   "metadata": {},
   "outputs": [],
   "source": [
    "p_grid, posterior = posterior_grid_approx(success=6, tosses=9, prior='truncated')\n",
    "samples = np.random.choice(p_grid, p=posterior, size=int(1e4), replace=True)"
   ]
  },
  {
   "cell_type": "code",
   "execution_count": 20,
   "id": "lasting-bride",
   "metadata": {},
   "outputs": [
    {
     "data": {
      "text/plain": [
       "array([0.50505051, 0.81818182])"
      ]
     },
     "execution_count": 20,
     "metadata": {},
     "output_type": "execute_result"
    }
   ],
   "source": [
    "samples = np.random.choice(p_grid, p=posterior, size=int(1e4), replace=True)\n",
    "az.hdi(samples, hdi_prob=.9)"
   ]
  },
  {
   "cell_type": "code",
   "execution_count": 21,
   "id": "hungarian-insider",
   "metadata": {},
   "outputs": [
    {
     "data": {
      "text/plain": [
       "0.1037"
      ]
     },
     "execution_count": 21,
     "metadata": {},
     "output_type": "execute_result"
    }
   ],
   "source": [
    "w = stats.binom.rvs(n=15, size=len(samples), p=samples)\n",
    "wperc = pd.Series(w).value_counts(normalize=True).sort_index()\n",
    "wperc[8]"
   ]
  },
  {
   "cell_type": "code",
   "execution_count": 22,
   "id": "honest-coaching",
   "metadata": {},
   "outputs": [
    {
     "data": {
      "text/plain": [
       "<AxesSubplot:>"
      ]
     },
     "execution_count": 22,
     "metadata": {},
     "output_type": "execute_result"
    },
    {
     "data": {
      "image/png": "[encoded data removed]",
      "text/plain": [
       "<Figure size 432x288 with 1 Axes>"
      ]
     },
     "metadata": {
      "needs_background": "light"
     },
     "output_type": "display_data"
    }
   ],
   "source": [
    "wperc.plot.bar()"
   ]
  },
  {
   "cell_type": "code",
   "execution_count": 23,
   "id": "classified-stations",
   "metadata": {},
   "outputs": [
    {
     "data": {
      "text/plain": [
       "0.22"
      ]
     },
     "execution_count": 23,
     "metadata": {},
     "output_type": "execute_result"
    }
   ],
   "source": [
    "w = stats.binom.rvs(n=9, size=len(samples), p=samples)\n",
    "wperc = pd.Series(w).value_counts(normalize=True).sort_index()\n",
    "wperc[6]"
   ]
  },
  {
   "cell_type": "code",
   "execution_count": 24,
   "id": "angry-charger",
   "metadata": {},
   "outputs": [
    {
     "data": {
      "text/plain": [
       "<AxesSubplot:>"
      ]
     },
     "execution_count": 24,
     "metadata": {},
     "output_type": "execute_result"
    },
    {
     "data": {
      "image/png": "[encoded data removed]",
      "text/plain": [
       "<Figure size 432x288 with 1 Axes>"
      ]
     },
     "metadata": {
      "needs_background": "light"
     },
     "output_type": "display_data"
    }
   ],
   "source": [
    "wperc.plot.bar()"
   ]
  },
  {
   "cell_type": "markdown",
   "id": "sexual-minneapolis",
   "metadata": {},
   "source": [
    "### 3M6.\n",
    "\n",
    "Suppose you want to estimate the Earth’s proportion of water very precisely. Specifically, you want the 99% percentile interval of the posterior distribution of p to be only 0.05 wide. This means the distance between the upper and lower bound of the interval should be 0.05. How many times will you have to toss the globe to do this?"
   ]
  },
  {
   "cell_type": "code",
   "execution_count": 25,
   "id": "second-selling",
   "metadata": {},
   "outputs": [],
   "source": [
    "diffs = []\n",
    "sample_size = 100\n",
    "\n",
    "for n_tosses in range(1, 2000):\n",
    "    diff = []\n",
    "    for _ in range(sample_size):\n",
    "        n_success = np.random.randint(0, n_tosses)\n",
    "        p_grid, posterior = posterior_grid_approx(success=n_success, tosses=n_tosses, prior='uniform')\n",
    "        samples = np.random.choice(p_grid, p=posterior, size=int(1e4), replace=True)\n",
    "        hdi = az.hdi(samples, hdi_prob=.99)\n",
    "        diff.append(hdi[1] - hdi[0])\n",
    "    diffs.append(sum(diff)/sample_size)"
   ]
  },
  {
   "cell_type": "code",
   "execution_count": 26,
   "id": "decreased-shelf",
   "metadata": {},
   "outputs": [
    {
     "data": {
      "text/plain": [
       "0.036565656565656586"
      ]
     },
     "execution_count": 26,
     "metadata": {},
     "output_type": "execute_result"
    }
   ],
   "source": [
    "min(diffs)"
   ]
  },
  {
   "cell_type": "code",
   "execution_count": 27,
   "id": "brief-heather",
   "metadata": {},
   "outputs": [
    {
     "data": {
      "text/plain": [
       "[<matplotlib.lines.Line2D at 0x1270a5c70>]"
      ]
     },
     "execution_count": 27,
     "metadata": {},
     "output_type": "execute_result"
    },
    {
     "data": {
      "image/png": "[encoded data removed]",
      "text/plain": [
       "<Figure size 432x288 with 1 Axes>"
      ]
     },
     "metadata": {
      "needs_background": "light"
     },
     "output_type": "display_data"
    }
   ],
   "source": [
    "plt.plot(diffs)"
   ]
  },
  {
   "cell_type": "markdown",
   "id": "private-corpus",
   "metadata": {},
   "source": [
    "**Hard.**\n",
    "\n",
    "The Hard problems here all use the data below. These data indicate the gender (male=1, female=0) of officially reported first and second born children in 100 two-child families."
   ]
  },
  {
   "cell_type": "code",
   "execution_count": 28,
   "id": "given-shade",
   "metadata": {},
   "outputs": [],
   "source": [
    "birth1 = np.array([1,0,0,0,1,1,0,1,0,1,0,0,1,1,0,1,1,0,0,0,1,0,0,0,1,0,0,0,0,1,1,1,0,1,0,1,1,1,0,1,0,1,1,0,1,0,0,1,1,0,1,0,0,0,0,0,0,0,1,1,0,1,0,0,1,0,0,0,1,0,0,1,1,1,1,0,1,0,1,1,1,1,1,0,0,1,0,1,1,0,1,0,1,1,1,0,1,1,1,1])\n",
    "birth2 = np.array([0,1,0,1,0,1,1,1,0,0,1,1,1,1,1,0,0,1,1,1,0,0,1,1,1,0,1,1,1,0,1,1,1,0,1,0,0,1,1,1,1,0,0,1,0,1,1,1,1,1,1,1,1,1,1,1,1,1,1,1,1,0,1,1,0,1,1,0,1,1,1,0,0,0,0,0,0,1,0,0,0,1,1,0,0,1,0,0,1,1,0,0,0,1,1,1,0,0,0,0])"
   ]
  },
  {
   "cell_type": "markdown",
   "id": "lightweight-cooling",
   "metadata": {},
   "source": [
    "Use these vectors as data. So for example to compute the total number of boys born across all of these births, you could use:"
   ]
  },
  {
   "cell_type": "code",
   "execution_count": 29,
   "id": "ceramic-conversation",
   "metadata": {},
   "outputs": [
    {
     "data": {
      "text/plain": [
       "111"
      ]
     },
     "execution_count": 29,
     "metadata": {},
     "output_type": "execute_result"
    }
   ],
   "source": [
    "birth1.sum() + birth2.sum()"
   ]
  },
  {
   "cell_type": "markdown",
   "id": "handy-classics",
   "metadata": {},
   "source": [
    "### 3H1.\n",
    "\n",
    "Using grid approximation, compute the posterior distribution for the probability of a birth being a boy. Assume a uniform prior probability. Which parameter value maximizes the posterior probability?"
   ]
  },
  {
   "cell_type": "code",
   "execution_count": 30,
   "id": "spread-february",
   "metadata": {},
   "outputs": [],
   "source": [
    "total_boys = birth1.sum() + birth2.sum()\n",
    "total_babies = len(birth1) + len(birth2)\n",
    "\n",
    "p_grid, posterior = posterior_grid_approx(success=total_boys, tosses=total_babies, prior='uniform')"
   ]
  },
  {
   "cell_type": "markdown",
   "id": "enclosed-richmond",
   "metadata": {},
   "source": [
    "### 3H2.\n",
    "\n",
    "Using the sample function, draw 10,000 random parameter values from the posterior distribution you calculated above. Use these samples to estimate the 50%, 89%, and 97% highest posterior density intervals."
   ]
  },
  {
   "cell_type": "code",
   "execution_count": 31,
   "id": "eight-pittsburgh",
   "metadata": {},
   "outputs": [],
   "source": [
    "samples = np.random.choice(p_grid, p=posterior, size=10_000, replace=True)\n"
   ]
  },
  {
   "cell_type": "code",
   "execution_count": 32,
   "id": "quiet-upper",
   "metadata": {},
   "outputs": [
    {
     "data": {
      "text/plain": [
       "<AxesSubplot:ylabel='Density'>"
      ]
     },
     "execution_count": 32,
     "metadata": {},
     "output_type": "execute_result"
    },
    {
     "data": {
      "image/png": "[encoded data removed]",
      "text/plain": [
       "<Figure size 432x288 with 1 Axes>"
      ]
     },
     "metadata": {
      "needs_background": "light"
     },
     "output_type": "display_data"
    }
   ],
   "source": [
    "sns.kdeplot(samples)"
   ]
  },
  {
   "cell_type": "code",
   "execution_count": 33,
   "id": "breeding-evanescence",
   "metadata": {},
   "outputs": [
    {
     "name": "stdout",
     "output_type": "stream",
     "text": [
      "HDI 50.0% = [0.54545455 0.58585859]\n",
      "HDI 89.0% = [0.50505051 0.60606061]\n",
      "HDI 97.0% = [0.48484848 0.62626263]\n"
     ]
    }
   ],
   "source": [
    "for hdi_interval in [.5, .89, .97]:\n",
    "    print(f'HDI {hdi_interval*100:.1f}% = {az.hdi(samples, hdi_interval)}')"
   ]
  },
  {
   "cell_type": "markdown",
   "id": "conscious-regulation",
   "metadata": {},
   "source": [
    "### 3H3.\n",
    "\n",
    "Use `rbinom` to simulate 10,000 replicates of 200 births. You should end up with 10,000 numbers, each one a count of boys out of 200 births. Compare the distribution of predicted numbers of boys to the actual count in the data (111 boys out of 200 births). There are many good ways to visualize the simulations, but the `dens` command (part of the `rethinking` package) is probably the easiest way in this case. Does it look like the model fits the data well? That is, does the distribution of predictions include the actual observation as a central, likely outcome?"
   ]
  },
  {
   "cell_type": "code",
   "execution_count": 34,
   "id": "czech-clinton",
   "metadata": {},
   "outputs": [],
   "source": [
    "birth = np.concatenate([birth1, birth2])"
   ]
  },
  {
   "cell_type": "code",
   "execution_count": 35,
   "id": "italic-rescue",
   "metadata": {},
   "outputs": [],
   "source": [
    "sim_births = stats.binom.rvs(n=200, p=samples)"
   ]
  },
  {
   "cell_type": "code",
   "execution_count": 36,
   "id": "golden-forum",
   "metadata": {},
   "outputs": [
    {
     "data": {
      "text/plain": [
       "<AxesSubplot:ylabel='Density'>"
      ]
     },
     "execution_count": 36,
     "metadata": {},
     "output_type": "execute_result"
    },
    {
     "data": {
      "image/png": "[encoded data removed]",
      "text/plain": [
       "<Figure size 432x288 with 1 Axes>"
      ]
     },
     "metadata": {
      "needs_background": "light"
     },
     "output_type": "display_data"
    }
   ],
   "source": [
    "sns.kdeplot(sim_births)"
   ]
  },
  {
   "cell_type": "markdown",
   "id": "manufactured-change",
   "metadata": {},
   "source": [
    "### 3H4.\n",
    "\n",
    "Now compare 10,000 counts of boys from 100 simulated first borns only to the number of boys in the first births, `birth1`. How does the model look in this light?"
   ]
  },
  {
   "cell_type": "code",
   "execution_count": 37,
   "id": "respiratory-outline",
   "metadata": {},
   "outputs": [
    {
     "data": {
      "text/plain": [
       "<matplotlib.lines.Line2D at 0x12918dc10>"
      ]
     },
     "execution_count": 37,
     "metadata": {},
     "output_type": "execute_result"
    },
    {
     "data": {
      "image/png": "[encoded data removed]",
      "text/plain": [
       "<Figure size 432x288 with 1 Axes>"
      ]
     },
     "metadata": {
      "needs_background": "light"
     },
     "output_type": "display_data"
    }
   ],
   "source": [
    "sim_births = stats.binom.rvs(n=100, p=samples)\n",
    "sns.kdeplot(sim_births)\n",
    "plt.axvline(birth1.sum(), c='black')"
   ]
  },
  {
   "cell_type": "code",
   "execution_count": 38,
   "id": "alleged-typing",
   "metadata": {},
   "outputs": [
    {
     "data": {
      "text/plain": [
       "<matplotlib.lines.Line2D at 0x1291d4520>"
      ]
     },
     "execution_count": 38,
     "metadata": {},
     "output_type": "execute_result"
    },
    {
     "data": {
      "image/png": "[encoded data removed]",
      "text/plain": [
       "<Figure size 432x288 with 1 Axes>"
      ]
     },
     "metadata": {
      "needs_background": "light"
     },
     "output_type": "display_data"
    }
   ],
   "source": [
    "p_grid, posterior = posterior_grid_approx(success=birth1.sum(), tosses=len(birth1), prior='uniform')\n",
    "samples = np.random.choice(p_grid, p=posterior, size=10_000, replace=True)\n",
    "sim_births = stats.binom.rvs(n=100, p=samples)\n",
    "sns.kdeplot(sim_births)\n",
    "plt.axvline(birth1.sum(), c='black')"
   ]
  },
  {
   "cell_type": "markdown",
   "id": "indonesian-cemetery",
   "metadata": {},
   "source": [
    "### 3H5.\n",
    "\n",
    "The model assumes that sex of first and second births are independent. To check this assumption, focus now on second births that followed female first borns. Compare 10,000 simulated counts of boys to only those second births that followed girls. To do this correctly, you need to count the number of first borns who were girls and simulate that many births, 10,000 times.  Compare the counts of boys in your simulations to the actual observed count of boys following girls. How does the model look in this light? Any guesses what is going on in these data?"
   ]
  },
  {
   "cell_type": "code",
   "execution_count": 39,
   "id": "challenging-merchant",
   "metadata": {},
   "outputs": [
    {
     "name": "stdout",
     "output_type": "stream",
     "text": [
      "39 male births follow female births\n",
      "49 Total female first births\n"
     ]
    }
   ],
   "source": [
    "# obtain the number of boys who's births followed girls\n",
    "print(str(birth2[birth1 == 0].sum()) + \" male births follow female births\")\n",
    "print(str(birth2[birth1 == 0].shape[0]) + \" Total female first births\")"
   ]
  },
  {
   "cell_type": "code",
   "execution_count": 40,
   "id": "pacific-frequency",
   "metadata": {},
   "outputs": [
    {
     "data": {
      "text/plain": [
       "<matplotlib.lines.Line2D at 0x1291e1280>"
      ]
     },
     "execution_count": 40,
     "metadata": {},
     "output_type": "execute_result"
    },
    {
     "data": {
      "image/png": "[encoded data removed]",
      "text/plain": [
       "<Figure size 432x288 with 1 Axes>"
      ]
     },
     "metadata": {
      "needs_background": "light"
     },
     "output_type": "display_data"
    }
   ],
   "source": [
    "sns.kdeplot(stats.binom.rvs(n=49, p=samples))\n",
    "plt.axvline(39, c='black')"
   ]
  }
 ],
 "metadata": {
  "kernelspec": {
   "display_name": "Python 3",
   "language": "python",
   "name": "python3"
  },
  "language_info": {
   "codemirror_mode": {
    "name": "ipython",
    "version": 3
   },
   "file_extension": ".py",
   "mimetype": "text/x-python",
   "name": "python",
   "nbconvert_exporter": "python",
   "pygments_lexer": "ipython3",
   "version": "3.9.2"
  }
 },
 "nbformat": 4,
 "nbformat_minor": 5
}
